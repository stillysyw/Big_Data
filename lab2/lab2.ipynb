{
 "cells": [
  {
   "cell_type": "code",
   "execution_count": 1,
   "id": "0e981907-d297-43cc-ada8-a43abc88f658",
   "metadata": {},
   "outputs": [],
   "source": [
    "import pyspark\n",
    "import os\n",
    "from datetime import datetime\n",
    "from pyspark.sql.functions import col\n",
    "from pyspark.sql import SparkSession\n",
    "from pyspark import SparkContext, SparkConf"
   ]
  },
  {
   "cell_type": "code",
   "execution_count": 3,
   "id": "8b9938a1-831a-4c8d-b949-90604126d039",
   "metadata": {},
   "outputs": [],
   "source": [
    "os.environ['PYSPARK_SUBMIT_ARGS'] = '--packages com.databricks:spark-xml_2.12:0.13.0 pyspark-shell'\n",
    "sc = SparkSession.builder.appName(\"Lab2\").master(\"yarn\").getOrCreate()"
   ]
  },
  {
   "cell_type": "code",
   "execution_count": 5,
   "id": "3185dacf-d14d-454a-bc70-eff9027f7c83",
   "metadata": {},
   "outputs": [
    {
     "name": "stdout",
     "output_type": "stream",
     "text": [
      "put: `lab1.ipynb': File exists\n"
     ]
    }
   ],
   "source": [
    "!hadoop fs -put * . # перемещаем файлы"
   ]
  },
  {
   "cell_type": "code",
   "execution_count": 7,
   "id": "b7ecb982-bc42-43ed-ae7d-8ab02c3c2802",
   "metadata": {},
   "outputs": [
    {
     "data": {
      "text/plain": [
       "['name',\n",
       " 'A# .NET',\n",
       " 'A# (Axiom)',\n",
       " 'A-0 System',\n",
       " 'A+',\n",
       " 'A++',\n",
       " 'ABAP',\n",
       " 'ABC',\n",
       " 'ABC ALGOL',\n",
       " 'ABSET']"
      ]
     },
     "execution_count": 7,
     "metadata": {},
     "output_type": "execute_result"
    }
   ],
   "source": [
    "prog_langes = sc.read.csv(\"programming-languages.csv\") # чтение файла методом read.csv\n",
    "\n",
    "# Создадим список из имен языков программирования\n",
    "prog_langes_list = [str(x[0]) for x in prog_langes.collect()]\n",
    "prog_langes_list[:10] # первые 10 языков"
   ]
  },
  {
   "cell_type": "code",
   "execution_count": 10,
   "id": "484dcd71-6f2c-4cd0-8862-c1b118f24e06",
   "metadata": {},
   "outputs": [
    {
     "data": {
      "text/plain": [
       "Row(_AcceptedAnswerId=7, _AnswerCount=13, _Body=\"<p>I want to use a track-bar to change a form's opacity.</p>\\n\\n<p>This is my code:</p>\\n\\n<pre><code>decimal trans = trackBar1.Value / 5000;\\nthis.Opacity = trans;\\n</code></pre>\\n\\n<p>When I build the application, it gives the following error:</p>\\n\\n<blockquote>\\n  <p>Cannot implicitly convert type <code>'decimal'</code> to <code>'double'</code></p>\\n</blockquote>\\n\\n<p>I tried using <code>trans</code> and <code>double</code> but then the control doesn't work. This code worked fine in a past VB.NET project.</p>\\n\", _ClosedDate=None, _CommentCount=2, _CommunityOwnedDate=datetime.datetime(2012, 10, 31, 20, 42, 47, 213000), _CreationDate=datetime.datetime(2008, 8, 1, 2, 42, 52, 667000), _FavoriteCount=48, _Id=4, _LastActivityDate=datetime.datetime(2019, 7, 19, 5, 39, 54, 173000), _LastEditDate=datetime.datetime(2019, 7, 19, 5, 39, 54, 173000), _LastEditorDisplayName='Rich B', _LastEditorUserId=3641067, _OwnerDisplayName=None, _OwnerUserId=8, _ParentId=None, _PostTypeId=1, _Score=630, _Tags='<c#><floating-point><type-conversion><double><decimal>', _Title='Convert Decimal to Double?', _ViewCount=42817)"
      ]
     },
     "execution_count": 10,
     "metadata": {},
     "output_type": "execute_result"
    }
   ],
   "source": [
    "# читаем xml файл используя метод read с указанием формата - format(\"xml), построчно - options(rowTag=\"row\"), указание файла - load(\"path\").\n",
    "posts_sample = sc.read.format(\"xml\").options(rowTag=\"row\").load(\"posts_sample.xml\")\n",
    "posts_sample.first()"
   ]
  },
  {
   "cell_type": "code",
   "execution_count": 11,
   "id": "5af6ac0a-5eb0-487d-8f0b-e2f4ae2d9a6e",
   "metadata": {},
   "outputs": [],
   "source": [
    "# Функция language_search переводит весь текст в нижний регистр и ищет название языка программирования в каждой строке\n",
    "# если язык был найден, то создается кортеж, иначе None.\n",
    "def language_search(x):\n",
    "  tag = None\n",
    "  for language in prog_langes_list:\n",
    "    if \"<\" + language.lower() + \">\" in x._Tags.lower():\n",
    "      tag = language\n",
    "      break\n",
    "  if tag is None:\n",
    "    return None\n",
    "  return (x._Id, tag)\n",
    "\n",
    "# фильтрация даты необходимого диапазона с 2010 по 2020\n",
    "def date_filter(x, year):\n",
    "  start = datetime(year=year, month=1, day=1)\n",
    "  end = datetime(year=year, month=12, day=31)\n",
    "  CreationDate = x._CreationDate\n",
    "  return CreationDate >= start and CreationDate <= end"
   ]
  },
  {
   "cell_type": "code",
   "execution_count": 16,
   "id": "81547dc6-8662-431b-ad6c-1329a45d2711",
   "metadata": {},
   "outputs": [
    {
     "name": "stdout",
     "output_type": "stream",
     "text": [
      "+--------------------+----------------+\n",
      "|Programming_language|Mentions_in_2010|\n",
      "+--------------------+----------------+\n",
      "|                Java|              52|\n",
      "|          JavaScript|              44|\n",
      "|                 PHP|              42|\n",
      "|              Python|              25|\n",
      "|         Objective-C|              22|\n",
      "|                   C|              20|\n",
      "|                Ruby|              11|\n",
      "|              Delphi|               7|\n",
      "|         AppleScript|               3|\n",
      "|                   R|               3|\n",
      "+--------------------+----------------+\n",
      "\n",
      "+--------------------+----------------+\n",
      "|Programming_language|Mentions_in_2011|\n",
      "+--------------------+----------------+\n",
      "|                 PHP|              97|\n",
      "|                Java|              92|\n",
      "|          JavaScript|              82|\n",
      "|              Python|              35|\n",
      "|         Objective-C|              33|\n",
      "|                   C|              24|\n",
      "|                Ruby|              17|\n",
      "|                Perl|               8|\n",
      "|              Delphi|               8|\n",
      "|                Bash|               7|\n",
      "+--------------------+----------------+\n",
      "\n",
      "+--------------------+----------------+\n",
      "|Programming_language|Mentions_in_2012|\n",
      "+--------------------+----------------+\n",
      "|                 PHP|             136|\n",
      "|          JavaScript|             129|\n",
      "|                Java|             124|\n",
      "|              Python|              65|\n",
      "|         Objective-C|              45|\n",
      "|                   C|              27|\n",
      "|                Ruby|              25|\n",
      "|                Bash|               9|\n",
      "|                   R|               9|\n",
      "|              MATLAB|               6|\n",
      "+--------------------+----------------+\n",
      "\n",
      "+--------------------+----------------+\n",
      "|Programming_language|Mentions_in_2013|\n",
      "+--------------------+----------------+\n",
      "|          JavaScript|             196|\n",
      "|                Java|             191|\n",
      "|                 PHP|             173|\n",
      "|              Python|              87|\n",
      "|         Objective-C|              40|\n",
      "|                   C|              36|\n",
      "|                Ruby|              30|\n",
      "|                   R|              25|\n",
      "|                Bash|              11|\n",
      "|               Scala|              10|\n",
      "+--------------------+----------------+\n",
      "\n",
      "+--------------------+----------------+\n",
      "|Programming_language|Mentions_in_2014|\n",
      "+--------------------+----------------+\n",
      "|          JavaScript|             235|\n",
      "|                Java|             228|\n",
      "|                 PHP|             154|\n",
      "|              Python|             103|\n",
      "|                   C|              52|\n",
      "|         Objective-C|              49|\n",
      "|                   R|              28|\n",
      "|                Ruby|              20|\n",
      "|              MATLAB|              16|\n",
      "|                Bash|              13|\n",
      "+--------------------+----------------+\n",
      "\n",
      "+--------------------+----------------+\n",
      "|Programming_language|Mentions_in_2015|\n",
      "+--------------------+----------------+\n",
      "|          JavaScript|             268|\n",
      "|                Java|             208|\n",
      "|                 PHP|             147|\n",
      "|              Python|             119|\n",
      "|                   R|              43|\n",
      "|                   C|              38|\n",
      "|         Objective-C|              30|\n",
      "|                Ruby|              20|\n",
      "|              MATLAB|              16|\n",
      "|               Scala|              13|\n",
      "+--------------------+----------------+\n",
      "\n",
      "+--------------------+----------------+\n",
      "|Programming_language|Mentions_in_2016|\n",
      "+--------------------+----------------+\n",
      "|          JavaScript|             271|\n",
      "|                Java|             178|\n",
      "|              Python|             140|\n",
      "|                 PHP|             126|\n",
      "|                   R|              50|\n",
      "|                   C|              32|\n",
      "|                Ruby|              21|\n",
      "|                Bash|              16|\n",
      "|               Scala|              16|\n",
      "|              MATLAB|              15|\n",
      "+--------------------+----------------+\n",
      "\n",
      "+--------------------+----------------+\n",
      "|Programming_language|Mentions_in_2017|\n",
      "+--------------------+----------------+\n",
      "|          JavaScript|             244|\n",
      "|                Java|             204|\n",
      "|              Python|             185|\n",
      "|                 PHP|             122|\n",
      "|                   R|              53|\n",
      "|                   C|              24|\n",
      "|         Objective-C|              19|\n",
      "|                Ruby|              16|\n",
      "|          PowerShell|              14|\n",
      "|          TypeScript|              14|\n",
      "+--------------------+----------------+\n",
      "\n",
      "+--------------------+----------------+\n",
      "|Programming_language|Mentions_in_2018|\n",
      "+--------------------+----------------+\n",
      "|              Python|             214|\n",
      "|          JavaScript|             194|\n",
      "|                Java|             145|\n",
      "|                 PHP|              99|\n",
      "|                   R|              63|\n",
      "|                   C|              24|\n",
      "|               Scala|              22|\n",
      "|          TypeScript|              21|\n",
      "|          PowerShell|              13|\n",
      "|                Bash|              12|\n",
      "+--------------------+----------------+\n",
      "\n",
      "+--------------------+----------------+\n",
      "|Programming_language|Mentions_in_2019|\n",
      "+--------------------+----------------+\n",
      "|              Python|             162|\n",
      "|          JavaScript|             131|\n",
      "|                Java|              95|\n",
      "|                 PHP|              59|\n",
      "|                   R|              36|\n",
      "|                   C|              14|\n",
      "|              MATLAB|               9|\n",
      "|                  Go|               9|\n",
      "|              Kotlin|               9|\n",
      "|                Dart|               9|\n",
      "+--------------------+----------------+\n",
      "\n"
     ]
    }
   ],
   "source": [
    "# Убираем пустые значения и оставляет нужный диапазон, находим язык программирования в каждой строке, иначе убираем пустые значения\n",
    "# смотрим сколько раз упоминался каждый язык программирования в каждом году, сортируем по количеству повторений \n",
    "# сортируем от большего к меньшему по количеству упоминаний\n",
    "#  помощью метода toDF и с использованием col форматируем полученные результаты.\n",
    "result = {}\n",
    "for year in range(2010, 2020):\n",
    "  result[year] = posts_sample.rdd\\\n",
    "      .filter(lambda x: x._Tags is not None and date_filter(x, year)).map(language_search)\\\n",
    "      .filter(lambda x: x is not None).keyBy(lambda x: x[1])\\\n",
    "      .aggregateByKey(0, lambda x, y: x + 1, lambda x1, x2: x1 + x2,)\\\n",
    "      .sortBy(lambda x: x[1], ascending=False).toDF()\n",
    "  result[year] = result[year].select(col(\"_1\").alias(\"Programming_language\"),col(\"_2\").alias(f\"Mentions_in_{year}\")).limit(10)\n",
    "  result[year].show()"
   ]
  },
  {
   "cell_type": "code",
   "execution_count": 19,
   "id": "8932a8c0-ee02-4b3b-9932-075408df84d9",
   "metadata": {},
   "outputs": [],
   "source": [
    "# используем метод write.save() для сохранения данных, также указывем нужный формат с помощью format()\n",
    "for year in result.keys():\n",
    "    result[year].write.format(\"parquet\").save(f\"Top_{year}\")"
   ]
  },
  {
   "cell_type": "code",
   "execution_count": 20,
   "id": "df2c185f-e99a-4b9b-966b-a914099c4fc8",
   "metadata": {},
   "outputs": [],
   "source": [
    "sc.stop()"
   ]
  },
  {
   "cell_type": "code",
   "execution_count": null,
   "id": "95c114fd-5cf1-4833-9fc5-eac28f0610d0",
   "metadata": {},
   "outputs": [],
   "source": []
  }
 ],
 "metadata": {
  "kernelspec": {
   "display_name": "Python 3",
   "language": "python",
   "name": "python3"
  },
  "language_info": {
   "codemirror_mode": {
    "name": "ipython",
    "version": 3
   },
   "file_extension": ".py",
   "mimetype": "text/x-python",
   "name": "python",
   "nbconvert_exporter": "python",
   "pygments_lexer": "ipython3",
   "version": "3.9.5"
  }
 },
 "nbformat": 4,
 "nbformat_minor": 5
}
