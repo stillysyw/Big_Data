
{
 "cells": [
  {
   "cell_type": "code",
   "execution_count": null,
   "id": "a81cb66b-0423-428b-9ec0-a6e50f1741ab",
   "metadata": {},
   "outputs": [],
   "source": [
    "from pyspark import SparkContext, SparkConf "
   ]
  },
  {
   "cell_type": "code",
   "execution_count": 56,
   "id": "bfce840a-5ad9-4c21-bc72-c30529532939",
   "metadata": {},
   "outputs": [],
   "source": [
    "# базовую конфигурация, которая осуществляется через специальный класс SparkConf\n",
    "# чтобы воспользоваться объектом SparkConf, вызываем методами setAppName() и setMaster()\n",
    "conf = SparkConf().setAppName(\"lab1\").setMaster('yarn')\n",
    "\n",
    "# передаем объект в конструктор объекта SparkContext\n",
    "sc = SparkContext(conf=conf)"
   ]
  },
  {
   "cell_type": "code",
   "execution_count": 57,
   "id": "545b6442-a8cb-492f-8779-7083fa31c0a1",
   "metadata": {},
   "outputs": [
    {
     "name": "stdout",
     "output_type": "stream",
     "text": [
      "put: `lab1.ipynb': File exists\n",
      "put: `station.csv': File exists\n",
      "put: `trip.csv': File exists\n",
      "put: `warandsociety.txt': File exists\n"
     ]
    }
   ],
   "source": [
    "!hadoop fs -put * . # перемещаем файлы"
   ]
  },
  {
   "cell_type": "code",
   "execution_count": 58,
   "id": "58c9e4ac-c271-4963-97ab-8fe01abaa643",
   "metadata": {},
   "outputs": [
    {
     "name": "stdout",
     "output_type": "stream",
     "text": [
      "Found 5 items\n",
      "drwxr-xr-x   - kasparov kasparov          1 2023-12-21 20:41 .sparkStaging\n",
      "-rwxr-xr-x   3 kasparov kasparov      16216 2023-12-21 01:02 lab1.ipynb\n",
      "-rwxr-xr-x   3 kasparov kasparov       5647 2023-12-21 01:02 station.csv\n",
      "-rwxr-xr-x   3 kasparov kasparov   80208848 2023-12-21 01:02 trip.csv\n",
      "-rwxr-xr-x   3 kasparov kasparov    5315699 2023-12-21 01:02 warandsociety.txt\n"
     ]
    }
   ],
   "source": [
    "!hadoop fs -ls # провереряем перенеслись ли файлы"
   ]
  },
  {
   "cell_type": "code",
   "execution_count": 61,
   "id": "7e891aea-154d-4a02-8eec-3faec0860cab",
   "metadata": {},
   "outputs": [
    {
     "name": "stdout",
     "output_type": "stream",
     "text": [
      "12851\n"
     ]
    }
   ],
   "source": [
    "# считываем текстовый файл из HDFS, и возвращаем его как RDD строк.\n",
    "warandpeace = sc.textFile(\"warandsociety.txt\")\n",
    "\n",
    "# выводим количество строк файла\n",
    "print(warandpeace.count()) "
   ]
  },
  {
   "cell_type": "code",
   "execution_count": 62,
   "id": "c5b7eb12-ad3c-4801-9687-52aa446a2f7b",
   "metadata": {},
   "outputs": [
    {
     "data": {
      "text/plain": [
       "['Лев Николаевич Толстой',\n",
       " 'Война и мир. Книга 1',\n",
       " '',\n",
       " 'Война и мир – 1',\n",
       " '',\n",
       " ' ',\n",
       " ' http://www.lib.ru',\n",
       " '',\n",
       " 'Аннотация ',\n",
       " '']"
      ]
     },
     "execution_count": 62,
     "metadata": {},
     "output_type": "execute_result"
    }
   ],
   "source": [
    "# Считываем первые 10 строк файла warandsociety.txt.\n",
    "warandpeace.take(10)"
   ]
  },
  {
   "cell_type": "code",
   "execution_count": 66,
   "id": "a5ae733f-a839-4ad7-8934-464631b06b18",
   "metadata": {},
   "outputs": [
    {
     "data": {
      "text/plain": [
       "\"– Еh bien, mon prince. Genes et Lucques ne sont plus que des apanages, des поместья, de la famille Buonaparte. Non, je vous previens, que si vous ne me dites pas, que nous avons la guerre, si vous vous permettez encore de pallier toutes les infamies, toutes les atrocites de cet Antichrist (ma parole, j'y crois) – je ne vous connais plus, vous n'etes plus mon ami, vous n'etes plus мой верный раб, comme vous dites. [Ну, что, князь, Генуа и Лукка стали не больше, как поместьями фамилии Бонапарте. Нет, я вас предупреждаю, если вы мне не скажете, что у нас война, если вы еще позволите себе защищать все гадости, все ужасы этого Антихриста (право, я верю, что он Антихрист) – я вас больше не знаю, вы уж не друг мой, вы уж не мой верный раб, как вы говорите.] Ну, здравствуйте, здравствуйте. Je vois que je vous fais peur, [Я вижу, что я вас пугаю,] садитесь и рассказывайте.\""
      ]
     },
     "execution_count": 66,
     "metadata": {},
     "output_type": "execute_result"
    }
   ],
   "source": [
    "# Ищем строки содержащие слово \"война\" и выводим первую из них\n",
    "linesWithWar = warandpeace.filter(lambda x: \"война\" in x)\n",
    "linesWithWar.first()"
   ]
  },
  {
   "cell_type": "code",
   "execution_count": 68,
   "id": "9f60019d-ab8e-4464-8da5-cca9d8302470",
   "metadata": {},
   "outputs": [],
   "source": [
    "# Замер времени выполнения команды\n",
    "def time(f):    \n",
    "    import time\n",
    "    t = time.process_time()\n",
    "    f()\n",
    "    print(f\"Elapsed time: {int((time.process_time() - t)*1e9)} ns\")\n"
   ]
  },
  {
   "cell_type": "code",
   "execution_count": 70,
   "id": "33135882-4d08-4ea1-84e5-2d329319190b",
   "metadata": {},
   "outputs": [
    {
     "name": "stdout",
     "output_type": "stream",
     "text": [
      "Elapsed time: 8222722 ns\n",
      "Elapsed time: 15242321 ns\n"
     ]
    }
   ],
   "source": [
    "linesWithWar.cache()\n",
    "time(lambda: linesWithWar.count())\n",
    "time(lambda: linesWithWar.count())"
   ]
  },
  {
   "cell_type": "code",
   "execution_count": 74,
   "id": "88305137-5138-469c-957b-eaad7bb36f8a",
   "metadata": {},
   "outputs": [],
   "source": [
    "# Поиск гистограммы слов\n",
    "wordCounts = linesWithWar.flatMap(lambda line: line.split(\" \")).map(lambda word: (word, 1)).reduceByKey(lambda a, b: a + b)"
   ]
  },
  {
   "cell_type": "code",
   "execution_count": 76,
   "id": "63112875-f80d-406c-8f34-9175874985cb",
   "metadata": {},
   "outputs": [],
   "source": [
    "# Сохранение гистограммы в txt файл\n",
    "wordCounts.saveAsTextFile(\"warandpeace_histogram_2.txt\")"
   ]
  },
  {
   "cell_type": "code",
   "execution_count": 78,
   "id": "432b1669-abec-4d57-8335-8f257f4bfc0e",
   "metadata": {},
   "outputs": [
    {
     "data": {
      "text/plain": [
       "[\"('–', 92)\",\n",
       " \"('bien,', 1)\",\n",
       " \"('Genes', 1)\",\n",
       " \"('et', 4)\",\n",
       " \"('Lucques', 1)\",\n",
       " \"('ne', 4)\",\n",
       " \"('plus', 3)\",\n",
       " \"('apanages,', 1)\",\n",
       " \"('de', 13)\",\n",
       " \"('la', 6)\"]"
      ]
     },
     "execution_count": 78,
     "metadata": {},
     "output_type": "execute_result"
    }
   ],
   "source": [
    "temp = sc.textFile(\"warandpeace_histogram_2.txt\")\n",
    "temp.take(10)"
   ]
  },
  {
   "cell_type": "code",
   "execution_count": 81,
   "id": "7bcbd129-8877-461b-bf31-ef418e7a7a29",
   "metadata": {},
   "outputs": [],
   "source": [
    "# Операции с множествами\n",
    "# Инициализация двух множеств\n",
    "a = sc.parallelize([1,2,3,4])\n",
    "b = sc.parallelize([3,4,6,7])\n",
    "\n"
   ]
  },
  {
   "cell_type": "code",
   "execution_count": 82,
   "id": "f7c997c5-a5f7-4168-8767-546a06d37215",
   "metadata": {},
   "outputs": [
    {
     "data": {
      "text/plain": [
       "[4, 1, 2, 6, 3, 7]"
      ]
     },
     "execution_count": 82,
     "metadata": {},
     "output_type": "execute_result"
    }
   ],
   "source": [
    "a.union(b).distinct().collect() # объединение a и b, удаление дубликатов"
   ]
  },
  {
   "cell_type": "code",
   "execution_count": 85,
   "id": "28cc39a2-9251-49c8-bf8f-2952037ba06d",
   "metadata": {},
   "outputs": [
    {
     "data": {
      "text/plain": [
       "[4, 3]"
      ]
     },
     "execution_count": 85,
     "metadata": {},
     "output_type": "execute_result"
    }
   ],
   "source": [
    "a.intersection(b).collect() # пересечение"
   ]
  },
  {
   "cell_type": "code",
   "execution_count": 84,
   "id": "d904ff2a-152b-4408-9616-7148035aab3a",
   "metadata": {},
   "outputs": [
    {
     "data": {
      "text/plain": [
       "[1, 2]"
      ]
     },
     "execution_count": 84,
     "metadata": {},
     "output_type": "execute_result"
    }
   ],
   "source": [
    "a.subtract(b).collect() # разность"
   ]
  },
  {
   "cell_type": "code",
   "execution_count": 86,
   "id": "084fcd21-273b-4232-9140-49d248652ae3",
   "metadata": {},
   "outputs": [],
   "source": [
    "sc.stop()"
   ]
  },
  {
   "cell_type": "code",
   "execution_count": null,
   "id": "817450d4-1f83-4abf-9a37-b30df0529a4d",
   "metadata": {},
   "outputs": [],
   "source": []
  }
 ],
 "metadata": {
  "kernelspec": {
   "display_name": "Python 3",
   "language": "python",
   "name": "python3"
  },
  "language_info": {
   "codemirror_mode": {
    "name": "ipython",
    "version": 3
   },
   "file_extension": ".py",
   "mimetype": "text/x-python",
   "name": "python",
   "nbconvert_exporter": "python",
   "pygments_lexer": "ipython3",
   "version": "3.9.5"
  }
 },
 "nbformat": 4,
 "nbformat_minor": 5
}
