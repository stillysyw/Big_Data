{
 "cells": [
  {
   "cell_type": "code",
   "execution_count": 34,
   "id": "d877f993-3e70-4024-8fb4-6e3eb8740f24",
   "metadata": {},
   "outputs": [],
   "source": [
    "from pyspark import SparkContext, SparkConf \n",
    "from pyspark.sql import SparkSession\n",
    "import pyspark.sql as sql\n",
    "from datetime import datetime\n",
    "from typing import NamedTuple\n",
    "import pyspark.sql.functions as f"
   ]
  },
  {
   "cell_type": "code",
   "execution_count": 2,
   "id": "fbfb311b-7082-45a0-bb53-a2cfa00f0de4",
   "metadata": {},
   "outputs": [],
   "source": [
    "conf = SparkConf().setAppName(\"Lab1_2\").setMaster('yarn')\n",
    "sc = SparkContext(conf=conf)"
   ]
  },
  {
   "cell_type": "code",
   "execution_count": 3,
   "id": "b69645a2-fd82-483b-b91b-3bd78e6829dc",
   "metadata": {},
   "outputs": [
    {
     "name": "stdout",
     "output_type": "stream",
     "text": [
      "Found 7 items\n",
      "drwxr-xr-x   - kasparov kasparov          1 2023-12-21 21:42 .sparkStaging\n",
      "-rwxr-xr-x   3 kasparov kasparov      16216 2023-12-21 01:02 lab1.ipynb\n",
      "-rwxr-xr-x   3 kasparov kasparov       5647 2023-12-21 01:02 station.csv\n",
      "-rwxr-xr-x   3 kasparov kasparov   80208848 2023-12-21 01:02 trip.csv\n",
      "drwxr-xr-x   - kasparov kasparov          3 2023-12-21 21:03 warandpeace_histogram2.txt\n",
      "drwxr-xr-x   - kasparov kasparov          3 2023-12-21 21:04 warandpeace_histogram_2.txt\n",
      "-rwxr-xr-x   3 kasparov kasparov    5315699 2023-12-21 01:02 warandsociety.txt\n"
     ]
    }
   ],
   "source": [
    "!hadoop fs -ls # провереряем перенеслись ли файлы"
   ]
  },
  {
   "cell_type": "code",
   "execution_count": 4,
   "id": "1723b513-846e-4a61-bf01-3db0dd3250cd",
   "metadata": {},
   "outputs": [
    {
     "data": {
      "text/plain": [
       "'id,duration,start_date,start_station_name,start_station_id,end_date,end_station_name,end_station_id,bike_id,subscription_type,zip_code'"
      ]
     },
     "execution_count": 4,
     "metadata": {},
     "output_type": "execute_result"
    }
   ],
   "source": [
    "trip_data = sc.textFile(\"trip.csv\")\n",
    "station_data = sc.textFile(\"station.csv\")\n",
    "trip_data.first()"
   ]
  },
  {
   "cell_type": "code",
   "execution_count": 26,
   "id": "e08d3569-1e66-413b-9092-bb28414ff8ef",
   "metadata": {},
   "outputs": [],
   "source": [
    "def initStation(stations):\n",
    "    class Station(NamedTuple):\n",
    "        station_id: int\n",
    "        name: str\n",
    "        lat: float\n",
    "        long: float\n",
    "        dockcount: int\n",
    "        landmark: str\n",
    "        installation: str\n",
    "    \n",
    "    for station in stations:\n",
    "        try:\n",
    "            yield Station(\n",
    "                station_id = int(station[0]),\n",
    "                name = station[1],\n",
    "                lat = float(station[2]),\n",
    "                long = float(station[3]),\n",
    "                dockcount = int(station[4]),\n",
    "                landmark = station[5],\n",
    "                installation = datetime.strptime(station[6], '%m/%d/%Y')\n",
    "            )\n",
    "        except:\n",
    "            pass"
   ]
  },
  {
   "cell_type": "code",
   "execution_count": 27,
   "id": "a036fba6-0abe-4849-ad72-6df645aff2b5",
   "metadata": {},
   "outputs": [],
   "source": [
    "def initTrip(trips):\n",
    "    class Trip(NamedTuple):\n",
    "        trip_id: int\n",
    "        duration: int\n",
    "        start_date: datetime\n",
    "        start_station_name: str\n",
    "        start_station_id: int\n",
    "        end_date: datetime\n",
    "        end_station_name: str\n",
    "        end_station_id: int\n",
    "        bike_id: int\n",
    "        subscription_type: str\n",
    "        zip_code: str\n",
    "        \n",
    "    for trip in trips:\n",
    "        try:\n",
    "            yield Trip(                             \n",
    "                 trip_id = int(trip[0]),\n",
    "                 duration = int(trip[1]),\n",
    "                 start_date = datetime.strptime(trip[2], '%m/%d/%Y %H:%M'),\n",
    "                 start_station_name = trip[3],\n",
    "                 start_station_id = int(trip[4]),\n",
    "                 end_date = datetime.strptime(trip[5], '%m/%d/%Y %H:%M'),\n",
    "                 end_station_name = trip[6],\n",
    "                 end_station_id = trip[7],\n",
    "                 bike_id = int(trip[8]),\n",
    "                 subscription_type = trip[9],\n",
    "                 zip_code = trip[10]\n",
    "            )\n",
    "        except:\n",
    "            pass"
   ]
  },
  {
   "cell_type": "code",
   "execution_count": 19,
   "id": "86234133-b63c-4420-99d5-323cfa711805",
   "metadata": {},
   "outputs": [],
   "source": [
    "trip_headers = trip_data.first()\n",
    "station_headers = station_data.first()"
   ]
  },
  {
   "cell_type": "code",
   "execution_count": 20,
   "id": "1ca4d778-a67e-48c9-802e-bc8dbe16eb65",
   "metadata": {},
   "outputs": [
    {
     "data": {
      "text/plain": [
       "[['4576',\n",
       "  '63',\n",
       "  '8/29/2013 14:13',\n",
       "  'South Van Ness at Market',\n",
       "  '66',\n",
       "  '8/29/2013 14:14',\n",
       "  'South Van Ness at Market',\n",
       "  '66',\n",
       "  '520',\n",
       "  'Subscriber',\n",
       "  '94127'],\n",
       " ['4607',\n",
       "  '70',\n",
       "  '8/29/2013 14:42',\n",
       "  'San Jose City Hall',\n",
       "  '10',\n",
       "  '8/29/2013 14:43',\n",
       "  'San Jose City Hall',\n",
       "  '10',\n",
       "  '661',\n",
       "  'Subscriber',\n",
       "  '95138']]"
      ]
     },
     "execution_count": 20,
     "metadata": {},
     "output_type": "execute_result"
    }
   ],
   "source": [
    "trip = trip_data.filter(lambda row: row != trip_headers).map(lambda row: row.split(\",\", -1))\n",
    "station = station_data.filter(lambda row: row != station_headers).map(lambda row: row.split(\",\", -1))\n",
    "trip.take(2)"
   ]
  },
  {
   "cell_type": "code",
   "execution_count": 22,
   "id": "0c578fe3-3c14-4da6-88f0-45ab33e3673d",
   "metadata": {},
   "outputs": [],
   "source": [
    "stations_ = station.mapPartitions(initStation)"
   ]
  },
  {
   "cell_type": "code",
   "execution_count": 28,
   "id": "bf5bae6d-8d42-4fed-b31a-66696a831d6d",
   "metadata": {},
   "outputs": [
    {
     "data": {
      "text/plain": [
       "Station(station_id=2, name='San Jose Diridon Caltrain Station', lat=37.329732, long=-121.90178200000001, dockcount=27, landmark='San Jose', installation=datetime.datetime(2013, 8, 6, 0, 0))"
      ]
     },
     "execution_count": 28,
     "metadata": {},
     "output_type": "execute_result"
    }
   ],
   "source": [
    "stations_.first()"
   ]
  },
  {
   "cell_type": "code",
   "execution_count": 29,
   "id": "6fe3a4a3-f04f-4414-a42f-e00dba20b773",
   "metadata": {},
   "outputs": [],
   "source": [
    "trips_ = trip.mapPartitions(initTrip)"
   ]
  },
  {
   "cell_type": "code",
   "execution_count": 30,
   "id": "f0b63766-8b0a-4127-a546-8b2e11296470",
   "metadata": {},
   "outputs": [
    {
     "data": {
      "text/plain": [
       "Trip(trip_id=4576, duration=63, start_date=datetime.datetime(2013, 8, 29, 14, 13), start_station_name='South Van Ness at Market', start_station_id=66, end_date=datetime.datetime(2013, 8, 29, 14, 14), end_station_name='South Van Ness at Market', end_station_id='66', bike_id=520, subscription_type='Subscriber', zip_code='94127')"
      ]
     },
     "execution_count": 30,
     "metadata": {},
     "output_type": "execute_result"
    }
   ],
   "source": [
    "trips_.first()"
   ]
  },
  {
   "cell_type": "code",
   "execution_count": 36,
   "id": "b3abf6b2-a8f2-4abb-808f-54730c4ffb4d",
   "metadata": {},
   "outputs": [
    {
     "data": {
      "text/plain": [
       "535"
      ]
     },
     "execution_count": 36,
     "metadata": {},
     "output_type": "execute_result"
    }
   ],
   "source": [
    "# Найти велосипед с максимальным временем пробега.\n",
    "\n",
    "# складываем все продолжительности одного bike_id и берем bike_id с максимальной суммой\n",
    "bike_max_duration_id = trips_.map(lambda x: (x.bike_id, x.duration)) \\\n",
    "                                    .reduceByKey(lambda a,b:a+b).reduce(lambda a,b: a if a[1]>b[1] else b)[0]\n",
    "\n",
    "# с помощью метода map получаем из исходной выборки пары типа (bike_id, duration) - (id, продолжительность), \n",
    "# складываем все поездки по bike_id, получая в итоге пары (id, суммарная продолжительность), \n",
    "# сравниваем все пары и выбираем ту, у которой суммарная по всем поездкам продолжительность больше, \n",
    "# определяя пару из id и максимальной суммарной продолжительности.\n",
    "\n",
    "bike_max_duration_id"
   ]
  },
  {
   "cell_type": "code",
   "execution_count": 37,
   "id": "b9f2c413-f63f-4e4f-8850-20c0e6ad6041",
   "metadata": {},
   "outputs": [
    {
     "data": {
      "text/plain": [
       "0.7058482821754397"
      ]
     },
     "execution_count": 37,
     "metadata": {},
     "output_type": "execute_result"
    }
   ],
   "source": [
    "# Найти наибольшее геодезическое расстояние между станциями.\n",
    "\n",
    "def distance(x,y):\n",
    "    return ((x.lat-y.lat)**2+(x.long-y.long)**2)**0.5\n",
    "\n",
    "# с помощью метода cartesian() выбираем все возможные комбинации станций и затем с помощь метода map и функции distance, \n",
    "# вычисляем расстояние для каждой пары и выбираем максимальное\n",
    "\n",
    "max_distance = stations_.cartesian(stations_).map(lambda x:  distance(x[0], x[1])).max()\n",
    "max_distance"
   ]
  },
  {
   "cell_type": "code",
   "execution_count": 39,
   "id": "7a8a0ae2-e39d-47c9-b572-de811af4b410",
   "metadata": {},
   "outputs": [
    {
     "data": {
      "text/plain": [
       "['San Francisco Caltrain 2 (330 Townsend)',\n",
       " 'Market at Sansome',\n",
       " '2nd at South Park',\n",
       " 'Davis at Jackson',\n",
       " 'Post at Kearney',\n",
       " 'Embarcadero at Sansome',\n",
       " 'Clay at Battery',\n",
       " 'Harry Bridges Plaza (Ferry Building)',\n",
       " 'Steuart at Market',\n",
       " 'Townsend at 7th',\n",
       " 'Powell at Post (Union Square)',\n",
       " 'Market at 4th',\n",
       " 'Beale at Market',\n",
       " 'Powell Street BART',\n",
       " 'San Francisco City Hall',\n",
       " 'Embarcadero at Vallejo',\n",
       " 'Yerba Buena Center of the Arts (3rd @ Howard)',\n",
       " 'Howard at 2nd',\n",
       " 'Commercial at Montgomery',\n",
       " 'Grant Avenue at Columbus Avenue',\n",
       " 'Broadway St at Battery St',\n",
       " 'Post at Kearny',\n",
       " 'San Francisco Caltrain (Townsend at 4th)',\n",
       " 'Spear at Folsom',\n",
       " 'Temporary Transbay Terminal (Howard at Beale)',\n",
       " '5th at Howard',\n",
       " 'Civic Center BART (7th at Market)',\n",
       " 'Market at 10th',\n",
       " '2nd at Folsom',\n",
       " 'South Van Ness at Market',\n",
       " 'Mechanics Plaza (Market at Battery)',\n",
       " 'Embarcadero at Folsom',\n",
       " '2nd at Townsend',\n",
       " 'Embarcadero at Bryant',\n",
       " 'Golden Gate at Polk',\n",
       " 'Washington at Kearny',\n",
       " 'Washington at Kearney']"
      ]
     },
     "execution_count": 39,
     "metadata": {},
     "output_type": "execute_result"
    }
   ],
   "source": [
    "# Найти путь велосипеда с максимальным временем пробега через станции.\n",
    "\n",
    "# из исходной выборки выбираем поездки, в которых id велосипеда совпадает с подсчитанным ранее - id велосипеда с максимальным временем пробега\n",
    "# сортируем по дате начала поездки и с помощью метода map выбираем название конечной станции.\n",
    "path_max_duration = trips_.filter(lambda x:x.bike_id==bike_max_duration_id).sortBy(lambda x: x.start_date).map(lambda x: x.end_station_name).distinct().collect()\n",
    "path_max_duration"
   ]
  },
  {
   "cell_type": "code",
   "execution_count": 40,
   "id": "7182a7fa-3488-4bf7-a74d-7414ba8c1684",
   "metadata": {},
   "outputs": [
    {
     "data": {
      "text/plain": [
       "700"
      ]
     },
     "execution_count": 40,
     "metadata": {},
     "output_type": "execute_result"
    }
   ],
   "source": [
    "# Найти количество велосипедов в системе.\n",
    "\n",
    "# отбираем из исходной выборки все идентификаторы велосипедов\n",
    "# убираем повторы и с помощью метода count подсчитываем их общее число.\n",
    "bike_count = trips_.map(lambda x: x.bike_id).distinct().count()\n",
    "bike_count"
   ]
  },
  {
   "cell_type": "code",
   "execution_count": 43,
   "id": "55a02b6c-e707-4ff2-8525-d70fd27bf1fa",
   "metadata": {},
   "outputs": [
    {
     "data": {
      "text/plain": [
       "3661"
      ]
     },
     "execution_count": 43,
     "metadata": {},
     "output_type": "execute_result"
    }
   ],
   "source": [
    "# Найти пользователей потративших на поездки более 3 часов.\n",
    "\n",
    "# с помощью метода map из исходной выборки отбираем пары (zip_code, duration) - почтовый индекс пользователя и продолжительность поездки\n",
    "# складываем все поездки для каждого пользователя и с помощью метода filter находим пары, в которых суммарная продолжительность больше трех часов, \n",
    "# из пар отбираем только почтовый индекс пользователя.\n",
    "clients_count = trips_.map(lambda x: (x.zip_code, x.duration)).reduceByKey(lambda a,b: a+b).filter(lambda x: x[1]>3*60*60).map(lambda x:x[0])\n",
    "clients_count.count()"
   ]
  },
  {
   "cell_type": "code",
   "execution_count": 44,
   "id": "9c4ed9b9-790f-452d-8ce8-6968ed025e60",
   "metadata": {},
   "outputs": [],
   "source": [
    "sc.stop()"
   ]
  },
  {
   "cell_type": "code",
   "execution_count": null,
   "id": "a8e010f5-3e7d-47c9-b524-e17d99ccd9e3",
   "metadata": {},
   "outputs": [],
   "source": []
  }
 ],
 "metadata": {
  "kernelspec": {
   "display_name": "Python 3",
   "language": "python",
   "name": "python3"
  },
  "language_info": {
   "codemirror_mode": {
    "name": "ipython",
    "version": 3
   },
   "file_extension": ".py",
   "mimetype": "text/x-python",
   "name": "python",
   "nbconvert_exporter": "python",
   "pygments_lexer": "ipython3",
   "version": "3.9.5"
  }
 },
 "nbformat": 4,
 "nbformat_minor": 5
}
